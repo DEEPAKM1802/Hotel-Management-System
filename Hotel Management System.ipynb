{
 "cells": [
  {
   "cell_type": "code",
   "execution_count": 21,
   "metadata": {},
   "outputs": [],
   "source": [
    "data = {\"patients\": [], \"doctors\":5, \"ICU\":1, \"Emergency\":3, \"General\":5}"
   ]
  },
  {
   "cell_type": "code",
   "execution_count": 22,
   "metadata": {},
   "outputs": [],
   "source": [
    "class HMS_sys:\n",
    "    \n",
    "    \n",
    "    def __init__(self, data):\n",
    "        self.data = data\n",
    "    \n",
    "    \n",
    "    def appointment(self,bed):\n",
    "        if self.data[\"doctors\"]>0:\n",
    "            if self.data[bed]>0:     \n",
    "                name = input(\"Welcome!!! may I know your name please : \")\n",
    "                mobile = input(\"Please tell your mobile number : \")\n",
    "                dob = input(\"can I know you DOB : \")\n",
    "                patient_input = {\"Name\":name, \"DOB\":dob, \"Mobile Number\":mobile, \"status\": \"hospitalized\", \"bed\":bed}\n",
    "                self.data[\"patients\"].append(patient_input)\n",
    "                self.data[\"doctors\"] = self.data[\"doctors\"]-1\n",
    "                self.data[bed] = self.data[bed] -1\n",
    "                print(self.data)\n",
    "            else:\n",
    "                print(f\"Sorry no {bed} beds avialable.\")\n",
    "        else:\n",
    "            print(f\"Sorry no doctors available.\")\n",
    "                \n",
    "                \n",
    "    def discharge(self,name):\n",
    "        for i in self.data[\"patients\"]:\n",
    "            if i[\"Name\"] == name:\n",
    "                bed = i[\"bed\"]\n",
    "                self.data[\"patients\"].remove(i)\n",
    "                self.data[\"doctors\"] = self.data[\"doctors\"] + 1\n",
    "                self.data[bed]  = self.data[bed] + 1\n",
    "                print(self.data)\n",
    "            else:\n",
    "                print(\"Please enter a valid name\")\n",
    "                \n",
    "    def status(self,name):\n",
    "        for i in self.data[\"patients\"]:\n",
    "            if i[\"Name\"]==name:\n",
    "                print(i[\"status\"])\n",
    "            else:\n",
    "                print(\"Please enter a valid name\")"
   ]
  },
  {
   "cell_type": "code",
   "execution_count": 23,
   "metadata": {},
   "outputs": [
    {
     "name": "stdout",
     "output_type": "stream",
     "text": [
      "*********************************************\n",
      "Please select a valid option\n",
      "Select 1 for appointment\n",
      "Select 2 for discharging\n",
      "Select 3 for checking status\n",
      "Select 4 to shut down\n",
      "Option : 4\n",
      "*********************************************\n",
      "Application closed\n"
     ]
    }
   ],
   "source": [
    "\n",
    "z = True\n",
    "while z == True:\n",
    "    print(\"*********************************************\")\n",
    "    print(\"Please select a valid option\")\n",
    "    print(\"Select 1 for appointment\")\n",
    "    print(\"Select 2 for discharging\")\n",
    "    print(\"Select 3 for checking status\")\n",
    "    print(\"Select 4 to shut down\")\n",
    "    x = int(input(\"Option : \"))\n",
    "    print(\"*********************************************\")\n",
    "    hms_obj = HMS_sys(data)\n",
    "    if x == 1:\n",
    "        print(\"*********************************************\")\n",
    "        print(\"Select 1 for ICU\")\n",
    "        print(\"Select 2 for Emergency\")\n",
    "        print(\"Select 3 for General\")\n",
    "        bed = int(input(\"select bed : \"))\n",
    "        print(\"*********************************************\")\n",
    "        if bed == 1:\n",
    "            hms_obj.appointment(\"ICU\")\n",
    "        elif bed == 2:\n",
    "             hms_obj.appointment(\"Emergency\")\n",
    "        elif bed == 3:\n",
    "             hms_obj.appointment(\"General\")\n",
    "        else:\n",
    "            print(\"invalid data\")\n",
    "    elif x == 2:\n",
    "        name = input(\"Enter name : \")\n",
    "        hms_obj.discharge(name)\n",
    "    elif x == 3:\n",
    "        name = input(\"Enter name : \")\n",
    "        hms_obj.status()\n",
    "    elif x == 4:\n",
    "        z = False\n",
    "    else:\n",
    "        print(\"/nInvalid Option\")\n",
    "print(\"Application closed\")"
   ]
  },
  {
   "cell_type": "code",
   "execution_count": null,
   "metadata": {},
   "outputs": [],
   "source": []
  }
 ],
 "metadata": {
  "kernelspec": {
   "display_name": "Python 3",
   "language": "python",
   "name": "python3"
  },
  "language_info": {
   "codemirror_mode": {
    "name": "ipython",
    "version": 3
   },
   "file_extension": ".py",
   "mimetype": "text/x-python",
   "name": "python",
   "nbconvert_exporter": "python",
   "pygments_lexer": "ipython3",
   "version": "3.7.6"
  }
 },
 "nbformat": 4,
 "nbformat_minor": 4
}
